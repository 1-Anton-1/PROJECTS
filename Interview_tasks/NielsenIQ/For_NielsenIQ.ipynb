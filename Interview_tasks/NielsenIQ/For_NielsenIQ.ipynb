{
 "cells": [
  {
   "cell_type": "code",
   "execution_count": 578,
   "id": "96c6382f",
   "metadata": {},
   "outputs": [],
   "source": [
    "import pandas as pd\n",
    "import re\n",
    "import os"
   ]
  },
  {
   "cell_type": "code",
   "execution_count": 580,
   "id": "e9a81472",
   "metadata": {},
   "outputs": [],
   "source": [
    "def clean_description(s: str) -> list[str]:\n",
    "    \"\"\"\n",
    "    Функция очистки принимает на вход строку-описание, в которой могут быть лишние символы (пуктуации, скобки и т.д.) \n",
    "    и буквы в разном регистре. Убирает лишние символы (кроме точек, точки используют для сокращения слов и их можно \n",
    "    принять как разделители между словами), приводит все буквы к меньшему регистру, добавляет пробел (между цифрами/буквами \n",
    "    ('Соль100гр' -> 'соль 100 гр')) и выводит список из слов.\n",
    "    \"\"\"\n",
    "    for ch in '[@\")(*&+\\,.|/;!?%^-_]':\n",
    "        s = s.replace(ch, '')\n",
    "    s = s.replace(\"''\", '').lower()\n",
    "    s1 = ''\n",
    "    for word in s.split():\n",
    "        i = 0\n",
    "        while i < len(word)-1:\n",
    "            s1 += word[i]\n",
    "            if (word[i].isdigit() and word[i+1].isalpha()) or (word[i].isalpha() and word[i+1].isdigit()):\n",
    "                s1 += ' '\n",
    "                i += 1\n",
    "            else:\n",
    "                i += 1\n",
    "        s1 += word[i] + ';'\n",
    "    s1 = s1[:-1]\n",
    "    return re.split('[ ;]', s1)"
   ]
  },
  {
   "cell_type": "code",
   "execution_count": 581,
   "id": "7af4aadd",
   "metadata": {},
   "outputs": [],
   "source": [
    "def func_affiliation(df: pd.DataFrame) -> pd.DataFrame:\n",
    "    \"\"\"\n",
    "    Функция для каждой группы карточек создает счетчик-словарь слов из описаний товаров. \n",
    "    При этом отдается предпочтение первым словам в описании товаров, с длиной не менее 2.\n",
    "    В датафрейме создаем временную колонку d_total_for_cat со значениями мощности словарей по каждой категории (карточке)\n",
    "    В колонку 'результат' для каждого описания товара указываем процент соотвествия товара этой категории (карточке).\n",
    "    \"\"\"\n",
    "    # Применяем функцию очистки для каждой записи поля \"реал. описание баркода\"\n",
    "    df.iloc[:, 2] = df.iloc[:, 2].apply(lambda x: clean_description(x))\n",
    "    n = 0\n",
    "    list_d_total = []\n",
    "    for i in df.iloc[:, 0].unique():  # Проходимся по уникальным номерам карточек\n",
    "        df_currently = df[df.iloc[:, 0] == i]  # Рассматириваем только часть исходного фрейма, где значения карточек идентичны\n",
    "        d = {}  # Создаем счетчик значений слов в категории\n",
    "        for desc in range(len(df_currently)):  # Проходим по каждой строке локального фрейма и формируем локальный счетчик-словарь\n",
    "            one_entry = df_currently.iloc[desc,2]  # Сохраняем одну строку в переменную для более удобного чтения кода далее\n",
    "            for i in range(len(one_entry)):       \n",
    "                if not one_entry[i].isdigit() and len(one_entry[i]) >= 2 and i < 2:\n",
    "                    d[one_entry[i]] = d.get(one_entry[i],0) + 10  # Отдаем предпочтение первым словам, состоящих не из цифр\n",
    "                else:\n",
    "                    d[one_entry[i]] = d.get(one_entry[i],0) + 1\n",
    "        for desc in range(len(df_currently)):\n",
    "            df.loc[n, 'результат'] = sum(d[word] for word in df_currently.iloc[desc, 2])\n",
    "            n += 1\n",
    "        for _ in range(len(df_currently)):\n",
    "            list_d_total.append(sum(d.values()))\n",
    "    df['d_total_for_cat'] = list_d_total\n",
    "    df['результат'] = ((df['результат'] / df['d_total_for_cat']) * 100).round(2).astype(str) + '%'\n",
    "    return df"
   ]
  },
  {
   "cell_type": "code",
   "execution_count": 582,
   "id": "b1625613",
   "metadata": {},
   "outputs": [],
   "source": [
    "path_input = './Data_Excel_Input'\n",
    "extension = '.xlsx'\n",
    "\n",
    "all_files = [file for file in os.listdir(path_input) if file.endswith('.xlsx')]\n",
    "\n",
    "for file in all_files:\n",
    "    df_init = pd.read_excel(os.path.join(path, file))\n",
    "    df_init = df_init[df_init.iloc[:, 2].notnull()]  # Убираем из рассмотрения те записи, где остуствтует описание товара\n",
    "    df_init = df_init.reset_index(drop=True)\n",
    "    df = df_init.copy()  # Копируем исходный фрейм во временный, в котором будем делать изменения в поле описания товара\n",
    "    func_affiliation(df)\n",
    "    path_output = './Data_Excel_Output/' + 'Results_of_' + file + '.xlsx'\n",
    "    df = pd.concat([df_init.iloc[:,:3], df.iloc[:,3]], axis=1)\n",
    "    df.to_excel(path_output)"
   ]
  }
 ],
 "metadata": {
  "kernelspec": {
   "display_name": "Python 3 (ipykernel)",
   "language": "python",
   "name": "python3"
  },
  "language_info": {
   "codemirror_mode": {
    "name": "ipython",
    "version": 3
   },
   "file_extension": ".py",
   "mimetype": "text/x-python",
   "name": "python",
   "nbconvert_exporter": "python",
   "pygments_lexer": "ipython3",
   "version": "3.9.13"
  }
 },
 "nbformat": 4,
 "nbformat_minor": 5
}
